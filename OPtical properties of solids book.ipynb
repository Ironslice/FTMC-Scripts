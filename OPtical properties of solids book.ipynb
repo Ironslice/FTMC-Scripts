{
 "cells": [
  {
   "cell_type": "code",
   "execution_count": 1,
   "metadata": {},
   "outputs": [],
   "source": [
    "# By M.D.\n",
    "# Optical properties of solids by Fox.\n",
    "#tasks\n",
    "import pandas as pd\n",
    "import matplotlib.pyplot as plt\n",
    "import datetime\n",
    "import numpy as np"
   ]
  },
  {
   "cell_type": "code",
   "execution_count": 8,
   "metadata": {},
   "outputs": [
    {
     "name": "stdout",
     "output_type": "stream",
     "text": [
      "n + ik:  6.169730841597129 + i 7.407130257917354\n",
      "abs:  1551345.7334970552\n",
      "Reflectivity:  0.7677728463528616\n"
     ]
    }
   ],
   "source": [
    "#Task 1.3\n",
    "E1 = -16.8\n",
    "E2 = 91.4\n",
    "n = 1/np.sqrt(2)*np.sqrt((E1+np.sqrt(E1**2+E2**2)))\n",
    "k = 1/np.sqrt(2)*np.sqrt((-E1+np.sqrt(E1**2+E2**2)))\n",
    "print('n + ik: ', n, '+ i', k)\n",
    "abs = 4*np.pi*k/(60*10**(-6))\n",
    "print('abs: ', abs)\n",
    "R = (((n-1)**2)+(k**2))/(((n+1)**2)+(k**2))\n",
    "print('Reflectivity: ', R)\n"
   ]
  },
  {
   "cell_type": "code",
   "execution_count": null,
   "metadata": {},
   "outputs": [],
   "source": []
  }
 ],
 "metadata": {
  "kernelspec": {
   "display_name": "Python 3",
   "language": "python",
   "name": "python3"
  },
  "language_info": {
   "codemirror_mode": {
    "name": "ipython",
    "version": 3
   },
   "file_extension": ".py",
   "mimetype": "text/x-python",
   "name": "python",
   "nbconvert_exporter": "python",
   "pygments_lexer": "ipython3",
   "version": "3.11.5"
  },
  "orig_nbformat": 4
 },
 "nbformat": 4,
 "nbformat_minor": 2
}
